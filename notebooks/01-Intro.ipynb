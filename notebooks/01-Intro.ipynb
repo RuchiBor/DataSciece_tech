{
 "cells": [
  {
   "cell_type": "markdown",
   "metadata": {},
   "source": [
    "# Techniques for Data Science with Big Datasets\n",
    "\n",
    "<img src='images/data.jpg' width=400/>\n",
    "\n",
    "## Well... that sounds awfully vague, doesn't it?\n",
    "\n",
    "__Welcome to large-scale data engineering and data science in 2020__\n",
    "* End-to-end, \"single product\" platforms are no longer the leading options\n",
    "* In the open-source world, end-to-end may not even be possible for the near future\n",
    "\n",
    "__What does this mean in concrete terms?__\n",
    "* Focusing on OSS, Hadoop and Spark can no longer support our end-to-end needs\n",
    "* We need -- and want -- to learn how to assemble a suite of best-of-breed tools for data science with newer, simpler tools like\n",
    "    * Dask\n",
    "    * Ray\n",
    "    * Horovod and others\n",
    "* ... while still using key features of mature tools like\n",
    "    * SparkSQL\n",
    "    * Hive\n",
    "    * Airflow and more\n",
    "    \n",
    "__As architects and practitioners, we need to choose and leverage suite of tools chosen for power and simplicity__\n",
    "\n",
    "This class is designed to help you become confident\n",
    "* making those tool choices\n",
    "* communicating about them with your team\n",
    "* migrating away from legacy systems to meet modern data science needs\n",
    "\n",
    "This class is *not* designed to\n",
    "* Go in depth on the APIs or internals of any specific tools (there's just not enough time)\n",
    "* \"Sell you\" on any specific open-source project or product\n",
    "    * We want to get comfortable discussing strength/weaknesses, and then you can choose a solution that is right for you\n",
    "    \n",
    "*We'll be welcoming and exploring Questions & Answers more than most of my classes (which are heavier on the code and internals)*"
   ]
  },
  {
   "cell_type": "markdown",
   "metadata": {},
   "source": [
    "## Catching up to large-scale data science in 2020: what's changed?\n",
    "\n",
    "A brief recap:\n",
    "* 2016 - broad adoption across industries of R, PyData, Apache Spark\n",
    "* 2017 - broad rise of deep learning\n",
    "* 2018-2019 - decline of Hadoop/Spark for data science\n",
    "* 2020 - new open tools and hybrid architectures\n",
    "\n",
    "__Theme: best-of-breed__\n",
    "\n",
    "https://www.oreilly.com/radar/why-best-of-breed-is-a-better-choice-than-all-in-one-platforms-for-data-science/"
   ]
  },
  {
   "cell_type": "markdown",
   "metadata": {},
   "source": [
    "## Interactive Survey\n",
    "\n",
    "* What size datasets do you typically work with?\n",
    "* Where is (most of) your data stored?\n",
    "* How do you get data out of your data lake?\n",
    "* What tools do you typically use for\n",
    "    * feature engineering\n",
    "    * modeling"
   ]
  },
  {
   "cell_type": "markdown",
   "metadata": {},
   "source": [
    "## The changing definition of large-scale data\n",
    "\n",
    "__Compute power has grown, but datasets have not__\n",
    "\n",
    "<img src='images/largest.jpg' width=650/>\n",
    "\n",
    "\n",
    "*Source: https://www.kdnuggets.com/2020/07/poll-largest-dataset-analyzed-results.html*\n",
    "\n",
    "The largest ML datasets used vs. largest tractable on a single node (no cluster) has changed dramatically\n",
    "* Resulting in new definitions for small, medium, and big data\n",
    "* Avoid \"big data\" tools and their taxes when you can\n",
    "\n",
    "Some \"medium data\" approaches\n",
    "* Downsample\n",
    "* XGBoost external memory (out-of-core)\n",
    "* TF/PyTorch data loaders\n",
    "* sklearn + `partial_fit` (incrementalizable) algorithms\n",
    "    * Simplify with Dask, though Dask not strictly necessary\n",
    "* Apache Arrow / PyArrow (https://arrow.apache.org/docs/python/memory.html)\n",
    "* Honorable mention for feature engineering: Vaex"
   ]
  },
  {
   "cell_type": "markdown",
   "metadata": {},
   "source": [
    "## Roadmap for large-scale tooling journey\n",
    "\n",
    "<img src='images/flow-base.png' width=800>"
   ]
  },
  {
   "cell_type": "code",
   "execution_count": null,
   "metadata": {},
   "outputs": [],
   "source": []
  }
 ],
 "metadata": {
  "kernelspec": {
   "display_name": "Python 3",
   "language": "python",
   "name": "python3"
  },
  "language_info": {
   "codemirror_mode": {
    "name": "ipython",
    "version": 3
   },
   "file_extension": ".py",
   "mimetype": "text/x-python",
   "name": "python",
   "nbconvert_exporter": "python",
   "pygments_lexer": "ipython3",
   "version": "3.8.0"
  }
 },
 "nbformat": 4,
 "nbformat_minor": 4
}
