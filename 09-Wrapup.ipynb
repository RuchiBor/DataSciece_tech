{
 "cells": [
  {
   "cell_type": "markdown",
   "id": "executive-melbourne",
   "metadata": {},
   "source": [
    "# Additional Tools, Wrapup\n",
    "\n",
    "Although we couldn't even *try* to be get all of the important and popular tools into our short survey, a few extra ones get a callout based on popular questions from previous sessions:\n",
    "\n",
    "* GPU-accelerated tools\n",
    "    * NVIDIA RAPIDS (core libraries, Dask, Spark-RAPIDS, etc.)\n",
    "    * NVTabular\n",
    "    * BlazingSQL\n",
    "    * numba.jit for compilation to CPU, CUDA, and even non-CUDA (ROCm) GPU\n",
    "    * PlaidML for OpenCL\n",
    "* Apache TVM compilation framework for heterogeneous compute \n",
    "* Modin dataframe abstraction (Pandas API implementation over Ray/Dask execution)\n"
   ]
  },
  {
   "cell_type": "markdown",
   "id": "english-harbor",
   "metadata": {},
   "source": [
    "# Q & A"
   ]
  },
  {
   "cell_type": "code",
   "execution_count": null,
   "id": "standard-brick",
   "metadata": {},
   "outputs": [],
   "source": []
  }
 ],
 "metadata": {
  "kernelspec": {
   "display_name": "Python 3",
   "language": "python",
   "name": "python3"
  },
  "language_info": {
   "codemirror_mode": {
    "name": "ipython",
    "version": 3
   },
   "file_extension": ".py",
   "mimetype": "text/x-python",
   "name": "python",
   "nbconvert_exporter": "python",
   "pygments_lexer": "ipython3",
   "version": "3.7.0"
  }
 },
 "nbformat": 4,
 "nbformat_minor": 5
}
